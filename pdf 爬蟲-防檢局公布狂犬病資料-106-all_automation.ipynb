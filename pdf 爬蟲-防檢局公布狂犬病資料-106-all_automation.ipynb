{
 "cells": [
  {
   "cell_type": "markdown",
   "metadata": {},
   "source": [
    "# import package"
   ]
  },
  {
   "cell_type": "code",
   "execution_count": 1,
   "metadata": {},
   "outputs": [],
   "source": [
    "from tabula import read_pdf\n",
    "import pandas as pd\n",
    "import datetime\n",
    "import os"
   ]
  },
  {
   "cell_type": "code",
   "execution_count": 2,
   "metadata": {},
   "outputs": [],
   "source": [
    "#設定pandas 的顯示上限\n",
    "pd.set_option('display.max_rows', 500)\n",
    "pd.set_option('display.max_columns', 500)"
   ]
  },
  {
   "cell_type": "markdown",
   "metadata": {},
   "source": [
    "# 設定路徑，批次讀取pdf檔案"
   ]
  },
  {
   "cell_type": "code",
   "execution_count": 3,
   "metadata": {},
   "outputs": [
    {
     "data": {
      "text/plain": [
       "['desktop.ini',\n",
       " 'done',\n",
       " 'Rabies ppt 1060126.pdf',\n",
       " 'Rabies ppt 1060224.pdf',\n",
       " 'Rabies ppt 1060331.pdf',\n",
       " 'Rabies ppt 1060428.pdf',\n",
       " 'Rabies ppt 1060531.pdf',\n",
       " 'Rabies ppt 1060630.pdf',\n",
       " 'Rabies ppt 1060728.pdf',\n",
       " 'Rabies ppt 1060831.pdf',\n",
       " 'Rabies ppt 1060930.pdf',\n",
       " 'Rabies ppt 1061031.pdf',\n",
       " 'Rabies ppt 1061130.pdf',\n",
       " 'Rabies ppt 1061229.pdf']"
      ]
     },
     "execution_count": 3,
     "metadata": {},
     "output_type": "execute_result"
    }
   ],
   "source": [
    "#0.get fileNames autimatically and set automation parameters\n",
    "os.chdir('Rabies')\n",
    "lst = os.listdir('106年')\n",
    "lst\n"
   ]
  },
  {
   "cell_type": "code",
   "execution_count": 4,
   "metadata": {},
   "outputs": [
    {
     "data": {
      "text/plain": [
       "['Rabies ppt 1060126.pdf',\n",
       " 'Rabies ppt 1060224.pdf',\n",
       " 'Rabies ppt 1060331.pdf',\n",
       " 'Rabies ppt 1060428.pdf',\n",
       " 'Rabies ppt 1060531.pdf',\n",
       " 'Rabies ppt 1060630.pdf',\n",
       " 'Rabies ppt 1060728.pdf',\n",
       " 'Rabies ppt 1060831.pdf',\n",
       " 'Rabies ppt 1060930.pdf',\n",
       " 'Rabies ppt 1061031.pdf',\n",
       " 'Rabies ppt 1061130.pdf',\n",
       " 'Rabies ppt 1061229.pdf']"
      ]
     },
     "execution_count": 4,
     "metadata": {},
     "output_type": "execute_result"
    }
   ],
   "source": [
    "Pdf = []\n",
    "for i in range(len(lst)):\n",
    "    if '.pdf' in lst[i]:\n",
    "        Pdf.append(lst[i])\n",
    "    \n",
    "Pdf"
   ]
  },
  {
   "cell_type": "code",
   "execution_count": 5,
   "metadata": {},
   "outputs": [
    {
     "data": {
      "text/plain": [
       "['Rabies ppt 1060126',\n",
       " 'Rabies ppt 1060224',\n",
       " 'Rabies ppt 1060331',\n",
       " 'Rabies ppt 1060428',\n",
       " 'Rabies ppt 1060531',\n",
       " 'Rabies ppt 1060630',\n",
       " 'Rabies ppt 1060728',\n",
       " 'Rabies ppt 1060831',\n",
       " 'Rabies ppt 1060930',\n",
       " 'Rabies ppt 1061031',\n",
       " 'Rabies ppt 1061130',\n",
       " 'Rabies ppt 1061229']"
      ]
     },
     "execution_count": 5,
     "metadata": {},
     "output_type": "execute_result"
    }
   ],
   "source": [
    "fileName =[]\n",
    "for i in range(len(Pdf)):\n",
    "    fileName.append(Pdf[i][:-4])\n",
    "fileName"
   ]
  },
  {
   "cell_type": "code",
   "execution_count": 52,
   "metadata": {
    "scrolled": false
   },
   "outputs": [
    {
     "data": {
      "text/plain": [
       "['-7', '', '-8', '-8', '-9', '-9', '-10', '-10', '-8', '-8', '-9', '-7']"
      ]
     },
     "execution_count": 52,
     "metadata": {},
     "output_type": "execute_result"
    }
   ],
   "source": [
    "# 手動設定每個檔案的結尾頁\n",
    "#can't automatically use...\n",
    "endpage =[]\n",
    "endpage.append('-7') #1\n",
    "endpage.append('') #2\n",
    "endpage.append('-8') #3\n",
    "endpage.append('-8') #4\n",
    "endpage.append('-9') #5\n",
    "endpage.append('-9') #6\n",
    "endpage.append('-10') #7\n",
    "endpage.append('-10') #8\n",
    "endpage.append('-8') #9\n",
    "endpage.append('-8') #10\n",
    "endpage.append('-9') #11\n",
    "endpage.append('-7') #12\n",
    "\n",
    "endpage"
   ]
  },
  {
   "cell_type": "markdown",
   "metadata": {},
   "source": [
    "# 以迴圈對指定檔案做爬蟲，將資料輸出為csv檔"
   ]
  },
  {
   "cell_type": "code",
   "execution_count": 53,
   "metadata": {},
   "outputs": [],
   "source": [
    "Num= 0\n",
    "Year = 106\n",
    "\n",
    "while True:    \n",
    "    #1. load the dataset from pdf\n",
    "    df = read_pdf(str(Year)+'年/'+Pdf[Num],spreadsheet = True, pages = '6'+endpage[Num])\n",
    "    #search the strange rows and get the indexes\n",
    "    StrangeRows = df.index[df['序號'].isin(['序號'])].tolist()\n",
    "    \n",
    "    #2. 改掉奇怪的column names\n",
    "    df=df.rename(columns = {'FAT\\r檢測結果':'FAT檢測結果','確診日期註1':'確診日期'}) #change name of the column\n",
    "    \n",
    "    # 3. 刪除多餘的row\n",
    "    df= df.drop(StrangeRows,axis = 0)\n",
    "    \n",
    "    #4. 重新排列df_new中的column\n",
    "    #to replace the column, we have to get the list of all column names \n",
    "    cols = df.columns.tolist() \n",
    "    #Rearrange cols in any way you want\n",
    "     #要記得用list的方法來處理他們\n",
    "    lst = cols[2:]\n",
    "    lst.append(cols[1])\n",
    "    lst.insert(0,cols[0])\n",
    "    df = df[lst]#rearrange the columns\n",
    "    \n",
    "    #5. change the date as digital format, and replace the year as 2018\n",
    "    df['確診日期'] = pd.to_datetime(df['確診日期'],format = '%m月%d日')\n",
    "    df['送檢日期'] = pd.to_datetime(df['送檢日期'],format = '%m月%d日')\n",
    "    df_d1= df['確診日期']#get the date to rename the year\n",
    "    df_d2= df['送檢日期']#get the date to rename the year\n",
    "    #lambda dt: => means passing an anonymons function as an argumentto apply()\n",
    "    new1 = df_d1.apply(lambda dt: dt.replace(year = Year+1911))\n",
    "    new2 = df_d2.apply(lambda dt: dt.replace(year = Year+1911))\n",
    "    #replace the original date format\n",
    "    df['確診日期'] = new1\n",
    "    df['送檢日期'] = new2\n",
    "    \n",
    "    #多的步驟:要把一月份中，年底的資料改成前一年\n",
    "    if int(Pdf[Num][-8:-6]) == 1:\n",
    "        Dec = pd.DatetimeIndex(df['送檢日期']).month == 12\n",
    "        df_2017 = df[Dec]\n",
    "        df_2017_d= df_2017['送檢日期']#get the date to rename the year\n",
    "        new2017 = df_2017_d.apply(lambda dt: dt.replace(year = Year+1911-1))\n",
    "        df.loc[Dec ,'送檢日期'] = new2017\n",
    "    \n",
    "    #6. create a new column for month, year, and day\n",
    "    df['year'] = pd.DatetimeIndex(df['送檢日期']).year\n",
    "    df['month'] = pd.DatetimeIndex(df['送檢日期']).month\n",
    "    df['day'] = pd.DatetimeIndex(df['送檢日期']).day\n",
    "    #輸出成csv檔案\n",
    "    df.to_csv(str(Year)+'年/'+fileName[Num]+'.csv',index = False, encoding = 'utf_8_sig')\n",
    "       \n",
    "    del df\n",
    "    Num +=1\n",
    "    if Num > 11:\n",
    "        break\n",
    "\n"
   ]
  },
  {
   "cell_type": "markdown",
   "metadata": {},
   "source": [
    "# done~!"
   ]
  }
 ],
 "metadata": {
  "kernelspec": {
   "display_name": "Python 3",
   "language": "python",
   "name": "python3"
  },
  "language_info": {
   "codemirror_mode": {
    "name": "ipython",
    "version": 3
   },
   "file_extension": ".py",
   "mimetype": "text/x-python",
   "name": "python",
   "nbconvert_exporter": "python",
   "pygments_lexer": "ipython3",
   "version": "3.7.1"
  }
 },
 "nbformat": 4,
 "nbformat_minor": 2
}
